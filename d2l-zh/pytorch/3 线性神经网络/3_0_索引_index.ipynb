{
 "cells": [
  {
   "cell_type": "markdown",
   "id": "a4c79318",
   "metadata": {
    "origin_pos": 0
   },
   "source": [
    "# 线性神经网络\n",
    ":label:`chap_linear`\n",
    "\n",
    "在介绍深度神经网络之前，我们需要了解神经网络训练的基础知识。\n",
    "本章我们将介绍神经网络的整个训练过程，\n",
    "包括：定义简单的神经网络架构、数据处理、指定损失函数和如何训练模型。\n",
    "为了更容易学习，我们将从经典算法————*线性*神经网络开始，介绍神经网络的基础知识。\n",
    "经典统计学习技术中的线性回归和softmax回归可以视为线性神经网络，\n",
    "这些知识将为本书其他部分中更复杂的技术奠定基础。\n",
    "\n",
    ":begin_tab:toc\n",
    " - [线性回归](./3_1_线性回归_linear-regression.ipynb)\n",
    " - [线性回归从零开始实现](./3_2_线性回归从零开始实现_linear-regression-scratch.ipynb)\n",
    " - [线性回归的简洁实现](./3_3_线性回归的简洁实现_linear-regression-concise.ipynb)\n",
    " - [softmax回归](./3_4_softmax回归_softmax-regression.ipynb)\n",
    " - [图像分类数据集](./3_5_图像分类数据集_image-classification-dataset.ipynb)\n",
    " - [softmax回归从零开始实现](./3_6_softmax回归从零开始实现_softmax-regression-scratch.ipynb)\n",
    " - [softmax回归的简洁实现](./3_7_softmax回归的简洁实现_softmax-regression-concise.ipynb)\n",
    ":end_tab:\n"
   ]
  }
 ],
 "metadata": {
  "language_info": {
   "name": "python"
  }
 },
 "nbformat": 4,
 "nbformat_minor": 5
}
